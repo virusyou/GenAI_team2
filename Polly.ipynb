{
 "cells": [
  {
   "cell_type": "markdown",
   "id": "12aebb62-ccc5-4e91-97aa-9e6c6383586c",
   "metadata": {},
   "source": [
    "# 1. Install Package"
   ]
  },
  {
   "cell_type": "code",
   "execution_count": 2,
   "id": "3021aa91-220b-4d27-99b9-bfcc86a94b83",
   "metadata": {
    "tags": []
   },
   "outputs": [
    {
     "name": "stdout",
     "output_type": "stream",
     "text": [
      "# conda environments:\n",
      "#\n",
      "base                     /opt/conda\n",
      "\n",
      "\n",
      "Note: you may need to restart the kernel to use updated packages.\n"
     ]
    }
   ],
   "source": [
    "%conda info --envs"
   ]
  },
  {
   "cell_type": "code",
   "execution_count": 3,
   "id": "018e45a8-09a4-4518-973c-1a415976315c",
   "metadata": {
    "tags": []
   },
   "outputs": [
    {
     "name": "stdout",
     "output_type": "stream",
     "text": [
      "Collecting package metadata (current_repodata.json): done\n",
      "Solving environment: failed with initial frozen solve. Retrying with flexible solve.\n",
      "Collecting package metadata (repodata.json): done\n",
      "Solving environment: failed with initial frozen solve. Retrying with flexible solve.\n",
      "\n",
      "PackagesNotFoundError: The following packages are not available from current channels:\n",
      "\n",
      "  - contextlib\n",
      "\n",
      "Current channels:\n",
      "\n",
      "  - https://repo.anaconda.com/pkgs/main/linux-64\n",
      "  - https://repo.anaconda.com/pkgs/main/noarch\n",
      "  - https://repo.anaconda.com/pkgs/r/linux-64\n",
      "  - https://repo.anaconda.com/pkgs/r/noarch\n",
      "\n",
      "To search for alternate channels that may provide the conda package you're\n",
      "looking for, navigate to\n",
      "\n",
      "    https://anaconda.org\n",
      "\n",
      "and use the search bar at the top of the page.\n",
      "\n",
      "\n",
      "\n",
      "Note: you may need to restart the kernel to use updated packages.\n"
     ]
    }
   ],
   "source": [
    "%conda install contextlib"
   ]
  },
  {
   "cell_type": "code",
   "execution_count": 4,
   "id": "1f48c36f-614c-4303-8e4a-8242132ff7da",
   "metadata": {
    "tags": []
   },
   "outputs": [
    {
     "name": "stdout",
     "output_type": "stream",
     "text": [
      "Collecting package metadata (current_repodata.json): done\n",
      "Solving environment: failed with initial frozen solve. Retrying with flexible solve.\n",
      "Collecting package metadata (repodata.json): done\n",
      "Solving environment: failed with initial frozen solve. Retrying with flexible solve.\n",
      "\n",
      "PackagesNotFoundError: The following packages are not available from current channels:\n",
      "\n",
      "  - subprocess\n",
      "\n",
      "Current channels:\n",
      "\n",
      "  - https://repo.anaconda.com/pkgs/main/linux-64\n",
      "  - https://repo.anaconda.com/pkgs/main/noarch\n",
      "  - https://repo.anaconda.com/pkgs/r/linux-64\n",
      "  - https://repo.anaconda.com/pkgs/r/noarch\n",
      "\n",
      "To search for alternate channels that may provide the conda package you're\n",
      "looking for, navigate to\n",
      "\n",
      "    https://anaconda.org\n",
      "\n",
      "and use the search bar at the top of the page.\n",
      "\n",
      "\n",
      "\n",
      "Note: you may need to restart the kernel to use updated packages.\n"
     ]
    }
   ],
   "source": [
    "%conda install subprocess"
   ]
  },
  {
   "cell_type": "markdown",
   "id": "4d58a0bb-e2f3-4b7d-a2bd-44f8bff8bb7f",
   "metadata": {},
   "source": [
    "# 2. Amazon Polly"
   ]
  },
  {
   "cell_type": "code",
   "execution_count": 36,
   "id": "af0bbf48-276b-4b3a-b2f9-7ed0d1203b14",
   "metadata": {
    "tags": []
   },
   "outputs": [
    {
     "name": "stdout",
     "output_type": "stream",
     "text": [
      "Written to /tmp/speech.mp3\n",
      "Written to /tmp/speech.mp3\n"
     ]
    }
   ],
   "source": [
    "import boto3\n",
    "\n",
    "from botocore.exceptions import BotoCoreError, ClientError\n",
    "from contextlib import closing\n",
    "import os\n",
    "import sys\n",
    "import subprocess\n",
    "from tempfile import gettempdir\n",
    "\n",
    "bucket_name = 'aigc-bj-team2'\n",
    "    \n",
    "def en_text_to_speech(input_text, polly_client, s3_client):\n",
    "    try:\n",
    "        # Request speech synthesis\n",
    "        response = polly_client.synthesize_speech(Text=input_text, OutputFormat=\"mp3\",\n",
    "                                            VoiceId=\"Joanna\")\n",
    "    except (BotoCoreError, ClientError) as error:\n",
    "        # The service returned an error, exit gracefully\n",
    "        print(error)\n",
    "        sys.exit(-1)\n",
    "    \n",
    "    # Access the audio stream from the response\n",
    "    if \"AudioStream\" in response:\n",
    "        # Note: Closing the stream is important because the service throttles on the\n",
    "        # number of parallel connections. Here we are using contextlib.closing to\n",
    "        # ensure the close method of the stream object will be called automatically\n",
    "        # at the end of the with statement's scope.\n",
    "        with closing(response[\"AudioStream\"]) as stream:\n",
    "            output = os.path.join(gettempdir(), \"speech.mp3\")\n",
    "\n",
    "            try:\n",
    "                # Open a file for writing the output as a binary stream\n",
    "                with open(output, \"wb\") as file:\n",
    "                    file.write(stream.read())\n",
    "                    print(\"Written to %s\" % output)\n",
    "                    s3_client.upload_file(output, bucket_name, \"speech-en.mp3\")\n",
    "            except IOError as error:\n",
    "                # Could not write to file, exit gracefully\n",
    "                print(error)\n",
    "                sys.exit(-1)\n",
    "    else:\n",
    "        # The response didn't contain audio data, exit gracefully\n",
    "        print(\"Could not stream audio\")\n",
    "        sys.exit(-1)\n",
    "\n",
    "def cn_text_to_speech(input_text, polly_client, s3_client):\n",
    "    try:\n",
    "        # Request speech synthesis\n",
    "        response = polly_client.synthesize_speech(Text=input_text, OutputFormat=\"mp3\",\n",
    "                                            VoiceId=\"Zhiyu\")\n",
    "    except (BotoCoreError, ClientError) as error:\n",
    "        # The service returned an error, exit gracefully\n",
    "        print(error)\n",
    "        sys.exit(-1)\n",
    "    \n",
    "    # Access the audio stream from the response\n",
    "    if \"AudioStream\" in response:\n",
    "        # Note: Closing the stream is important because the service throttles on the\n",
    "        # number of parallel connections. Here we are using contextlib.closing to\n",
    "        # ensure the close method of the stream object will be called automatically\n",
    "        # at the end of the with statement's scope.\n",
    "        with closing(response[\"AudioStream\"]) as stream:\n",
    "            output = os.path.join(gettempdir(), \"speech.mp3\")\n",
    "\n",
    "            try:\n",
    "                # Open a file for writing the output as a binary stream\n",
    "                with open(output, \"wb\") as file:\n",
    "                    file.write(stream.read())\n",
    "                    print(\"Written to %s\" % output)\n",
    "                    s3_client.upload_file(output, bucket_name, \"speech-cn.mp3\")\n",
    "            except IOError as error:\n",
    "                # Could not write to file, exit gracefully\n",
    "                print(error)\n",
    "                sys.exit(-1)\n",
    "    else:\n",
    "        # The response didn't contain audio data, exit gracefully\n",
    "        print(\"Could not stream audio\")\n",
    "        sys.exit(-1)\n",
    "        \n",
    "def main():\n",
    "    polly_client = boto3.client('polly')\n",
    "    s3_client = boto3.client(\"s3\")\n",
    "    en_input_text  = 'Hello world!'\n",
    "    en_text_to_speech(en_input_text, polly_client, s3_client)\n",
    "    cn_input_text = '一天，一个小女孩名叫艾莉丝探险者，带着她的宠物小兔子露露，踏入了陌生而神秘的森林。这个森林充满了奇幻的生物和魔法，艾莉丝被它的美丽和魅力所吸引。'\n",
    "    cn_text_to_speech(cn_input_text, polly_client, s3_client)\n",
    "\n",
    "if __name__ == '__main__':\n",
    "    main()"
   ]
  },
  {
   "cell_type": "code",
   "execution_count": 38,
   "id": "083b3fdf-c353-4057-84db-5946f7dd7caa",
   "metadata": {},
   "outputs": [
    {
     "name": "stdout",
     "output_type": "stream",
     "text": [
      "download: s3://aigc-bj-team2/speech-en.mp3 to ./speech-en.mp3  \n",
      "download: s3://aigc-bj-team2/speech-cn.mp3 to ./speech-cn.mp3   \n"
     ]
    }
   ],
   "source": [
    "# Copy to local\n",
    "!aws s3 cp s3://aigc-bj-team2/speech-en.mp3 ./speech-en.mp3\n",
    "!aws s3 cp s3://aigc-bj-team2/speech-cn.mp3 ./speech-cn.mp3"
   ]
  },
  {
   "cell_type": "code",
   "execution_count": 9,
   "id": "0c946992-8240-4499-8b12-d5b9bb17840b",
   "metadata": {},
   "outputs": [
    {
     "data": {
      "text/html": [
       "\n",
       "                <audio  controls=\"controls\" >\n",
       "                    <source src=\"data:audio/mpeg;base64,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\" type=\"audio/mpeg\" />\n",
       "                    Your browser does not support the audio element.\n",
       "                </audio>\n",
       "              "
      ],
      "text/plain": [
       "<IPython.lib.display.Audio object>"
      ]
     },
     "execution_count": 31,
     "metadata": {},
     "output_type": "execute_result"
    }
   ],
   "source": [
    "from IPython.display import Audio\n",
    "\n",
    "# Replace 'path_to_your_mp3.mp3' with the path to your mp3 file\n",
    "audio_file = 'speech-en.mp3'\n",
    "\n",
    "Audio(audio_file)"
   ]
  },
  {
   "cell_type": "code",
   "execution_count": 39,
   "id": "01ebde65-8b45-4536-b803-6adf4d47a8c8",
   "metadata": {},
   "outputs": [
    {
     "data": {
      "text/html": [
       "\n",
       "                <audio  controls=\"controls\" >\n",
       "                    <source src=\"data:audio/mpeg;base64,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\" type=\"audio/mpeg\" />\n",
       "                    Your browser does not support the audio element.\n",
       "                </audio>\n",
       "              "
      ],
      "text/plain": [
       "<IPython.lib.display.Audio object>"
      ]
     },
     "execution_count": 39,
     "metadata": {},
     "output_type": "execute_result"
    }
   ],
   "source": [
    "from IPython.display import Audio\n",
    "\n",
    "# Replace 'path_to_your_mp3.mp3' with the path to your mp3 file\n",
    "audio_file = 'speech-cn.mp3'\n",
    "\n",
    "Audio(audio_file)"
   ]
  },
  {
   "cell_type": "code",
   "execution_count": null,
   "id": "b363a97f-d205-4894-83f2-af611103b2b7",
   "metadata": {},
   "outputs": [],
   "source": []
  }
 ],
 "metadata": {
  "availableInstances": [
   {
    "_defaultOrder": 0,
    "_isFastLaunch": true,
    "category": "General purpose",
    "gpuNum": 0,
    "hideHardwareSpecs": false,
    "memoryGiB": 4,
    "name": "ml.t3.medium",
    "vcpuNum": 2
   },
   {
    "_defaultOrder": 1,
    "_isFastLaunch": false,
    "category": "General purpose",
    "gpuNum": 0,
    "hideHardwareSpecs": false,
    "memoryGiB": 8,
    "name": "ml.t3.large",
    "vcpuNum": 2
   },
   {
    "_defaultOrder": 2,
    "_isFastLaunch": false,
    "category": "General purpose",
    "gpuNum": 0,
    "hideHardwareSpecs": false,
    "memoryGiB": 16,
    "name": "ml.t3.xlarge",
    "vcpuNum": 4
   },
   {
    "_defaultOrder": 3,
    "_isFastLaunch": false,
    "category": "General purpose",
    "gpuNum": 0,
    "hideHardwareSpecs": false,
    "memoryGiB": 32,
    "name": "ml.t3.2xlarge",
    "vcpuNum": 8
   },
   {
    "_defaultOrder": 4,
    "_isFastLaunch": true,
    "category": "General purpose",
    "gpuNum": 0,
    "hideHardwareSpecs": false,
    "memoryGiB": 8,
    "name": "ml.m5.large",
    "vcpuNum": 2
   },
   {
    "_defaultOrder": 5,
    "_isFastLaunch": false,
    "category": "General purpose",
    "gpuNum": 0,
    "hideHardwareSpecs": false,
    "memoryGiB": 16,
    "name": "ml.m5.xlarge",
    "vcpuNum": 4
   },
   {
    "_defaultOrder": 6,
    "_isFastLaunch": false,
    "category": "General purpose",
    "gpuNum": 0,
    "hideHardwareSpecs": false,
    "memoryGiB": 32,
    "name": "ml.m5.2xlarge",
    "vcpuNum": 8
   },
   {
    "_defaultOrder": 7,
    "_isFastLaunch": false,
    "category": "General purpose",
    "gpuNum": 0,
    "hideHardwareSpecs": false,
    "memoryGiB": 64,
    "name": "ml.m5.4xlarge",
    "vcpuNum": 16
   },
   {
    "_defaultOrder": 8,
    "_isFastLaunch": false,
    "category": "General purpose",
    "gpuNum": 0,
    "hideHardwareSpecs": false,
    "memoryGiB": 128,
    "name": "ml.m5.8xlarge",
    "vcpuNum": 32
   },
   {
    "_defaultOrder": 9,
    "_isFastLaunch": false,
    "category": "General purpose",
    "gpuNum": 0,
    "hideHardwareSpecs": false,
    "memoryGiB": 192,
    "name": "ml.m5.12xlarge",
    "vcpuNum": 48
   },
   {
    "_defaultOrder": 10,
    "_isFastLaunch": false,
    "category": "General purpose",
    "gpuNum": 0,
    "hideHardwareSpecs": false,
    "memoryGiB": 256,
    "name": "ml.m5.16xlarge",
    "vcpuNum": 64
   },
   {
    "_defaultOrder": 11,
    "_isFastLaunch": false,
    "category": "General purpose",
    "gpuNum": 0,
    "hideHardwareSpecs": false,
    "memoryGiB": 384,
    "name": "ml.m5.24xlarge",
    "vcpuNum": 96
   },
   {
    "_defaultOrder": 12,
    "_isFastLaunch": false,
    "category": "General purpose",
    "gpuNum": 0,
    "hideHardwareSpecs": false,
    "memoryGiB": 8,
    "name": "ml.m5d.large",
    "vcpuNum": 2
   },
   {
    "_defaultOrder": 13,
    "_isFastLaunch": false,
    "category": "General purpose",
    "gpuNum": 0,
    "hideHardwareSpecs": false,
    "memoryGiB": 16,
    "name": "ml.m5d.xlarge",
    "vcpuNum": 4
   },
   {
    "_defaultOrder": 14,
    "_isFastLaunch": false,
    "category": "General purpose",
    "gpuNum": 0,
    "hideHardwareSpecs": false,
    "memoryGiB": 32,
    "name": "ml.m5d.2xlarge",
    "vcpuNum": 8
   },
   {
    "_defaultOrder": 15,
    "_isFastLaunch": false,
    "category": "General purpose",
    "gpuNum": 0,
    "hideHardwareSpecs": false,
    "memoryGiB": 64,
    "name": "ml.m5d.4xlarge",
    "vcpuNum": 16
   },
   {
    "_defaultOrder": 16,
    "_isFastLaunch": false,
    "category": "General purpose",
    "gpuNum": 0,
    "hideHardwareSpecs": false,
    "memoryGiB": 128,
    "name": "ml.m5d.8xlarge",
    "vcpuNum": 32
   },
   {
    "_defaultOrder": 17,
    "_isFastLaunch": false,
    "category": "General purpose",
    "gpuNum": 0,
    "hideHardwareSpecs": false,
    "memoryGiB": 192,
    "name": "ml.m5d.12xlarge",
    "vcpuNum": 48
   },
   {
    "_defaultOrder": 18,
    "_isFastLaunch": false,
    "category": "General purpose",
    "gpuNum": 0,
    "hideHardwareSpecs": false,
    "memoryGiB": 256,
    "name": "ml.m5d.16xlarge",
    "vcpuNum": 64
   },
   {
    "_defaultOrder": 19,
    "_isFastLaunch": false,
    "category": "General purpose",
    "gpuNum": 0,
    "hideHardwareSpecs": false,
    "memoryGiB": 384,
    "name": "ml.m5d.24xlarge",
    "vcpuNum": 96
   },
   {
    "_defaultOrder": 20,
    "_isFastLaunch": false,
    "category": "General purpose",
    "gpuNum": 0,
    "hideHardwareSpecs": true,
    "memoryGiB": 0,
    "name": "ml.geospatial.interactive",
    "supportedImageNames": [
     "sagemaker-geospatial-v1-0"
    ],
    "vcpuNum": 0
   },
   {
    "_defaultOrder": 21,
    "_isFastLaunch": true,
    "category": "Compute optimized",
    "gpuNum": 0,
    "hideHardwareSpecs": false,
    "memoryGiB": 4,
    "name": "ml.c5.large",
    "vcpuNum": 2
   },
   {
    "_defaultOrder": 22,
    "_isFastLaunch": false,
    "category": "Compute optimized",
    "gpuNum": 0,
    "hideHardwareSpecs": false,
    "memoryGiB": 8,
    "name": "ml.c5.xlarge",
    "vcpuNum": 4
   },
   {
    "_defaultOrder": 23,
    "_isFastLaunch": false,
    "category": "Compute optimized",
    "gpuNum": 0,
    "hideHardwareSpecs": false,
    "memoryGiB": 16,
    "name": "ml.c5.2xlarge",
    "vcpuNum": 8
   },
   {
    "_defaultOrder": 24,
    "_isFastLaunch": false,
    "category": "Compute optimized",
    "gpuNum": 0,
    "hideHardwareSpecs": false,
    "memoryGiB": 32,
    "name": "ml.c5.4xlarge",
    "vcpuNum": 16
   },
   {
    "_defaultOrder": 25,
    "_isFastLaunch": false,
    "category": "Compute optimized",
    "gpuNum": 0,
    "hideHardwareSpecs": false,
    "memoryGiB": 72,
    "name": "ml.c5.9xlarge",
    "vcpuNum": 36
   },
   {
    "_defaultOrder": 26,
    "_isFastLaunch": false,
    "category": "Compute optimized",
    "gpuNum": 0,
    "hideHardwareSpecs": false,
    "memoryGiB": 96,
    "name": "ml.c5.12xlarge",
    "vcpuNum": 48
   },
   {
    "_defaultOrder": 27,
    "_isFastLaunch": false,
    "category": "Compute optimized",
    "gpuNum": 0,
    "hideHardwareSpecs": false,
    "memoryGiB": 144,
    "name": "ml.c5.18xlarge",
    "vcpuNum": 72
   },
   {
    "_defaultOrder": 28,
    "_isFastLaunch": false,
    "category": "Compute optimized",
    "gpuNum": 0,
    "hideHardwareSpecs": false,
    "memoryGiB": 192,
    "name": "ml.c5.24xlarge",
    "vcpuNum": 96
   },
   {
    "_defaultOrder": 29,
    "_isFastLaunch": true,
    "category": "Accelerated computing",
    "gpuNum": 1,
    "hideHardwareSpecs": false,
    "memoryGiB": 16,
    "name": "ml.g4dn.xlarge",
    "vcpuNum": 4
   },
   {
    "_defaultOrder": 30,
    "_isFastLaunch": false,
    "category": "Accelerated computing",
    "gpuNum": 1,
    "hideHardwareSpecs": false,
    "memoryGiB": 32,
    "name": "ml.g4dn.2xlarge",
    "vcpuNum": 8
   },
   {
    "_defaultOrder": 31,
    "_isFastLaunch": false,
    "category": "Accelerated computing",
    "gpuNum": 1,
    "hideHardwareSpecs": false,
    "memoryGiB": 64,
    "name": "ml.g4dn.4xlarge",
    "vcpuNum": 16
   },
   {
    "_defaultOrder": 32,
    "_isFastLaunch": false,
    "category": "Accelerated computing",
    "gpuNum": 1,
    "hideHardwareSpecs": false,
    "memoryGiB": 128,
    "name": "ml.g4dn.8xlarge",
    "vcpuNum": 32
   },
   {
    "_defaultOrder": 33,
    "_isFastLaunch": false,
    "category": "Accelerated computing",
    "gpuNum": 4,
    "hideHardwareSpecs": false,
    "memoryGiB": 192,
    "name": "ml.g4dn.12xlarge",
    "vcpuNum": 48
   },
   {
    "_defaultOrder": 34,
    "_isFastLaunch": false,
    "category": "Accelerated computing",
    "gpuNum": 1,
    "hideHardwareSpecs": false,
    "memoryGiB": 256,
    "name": "ml.g4dn.16xlarge",
    "vcpuNum": 64
   },
   {
    "_defaultOrder": 35,
    "_isFastLaunch": false,
    "category": "Accelerated computing",
    "gpuNum": 1,
    "hideHardwareSpecs": false,
    "memoryGiB": 61,
    "name": "ml.p3.2xlarge",
    "vcpuNum": 8
   },
   {
    "_defaultOrder": 36,
    "_isFastLaunch": false,
    "category": "Accelerated computing",
    "gpuNum": 4,
    "hideHardwareSpecs": false,
    "memoryGiB": 244,
    "name": "ml.p3.8xlarge",
    "vcpuNum": 32
   },
   {
    "_defaultOrder": 37,
    "_isFastLaunch": false,
    "category": "Accelerated computing",
    "gpuNum": 8,
    "hideHardwareSpecs": false,
    "memoryGiB": 488,
    "name": "ml.p3.16xlarge",
    "vcpuNum": 64
   },
   {
    "_defaultOrder": 38,
    "_isFastLaunch": false,
    "category": "Accelerated computing",
    "gpuNum": 8,
    "hideHardwareSpecs": false,
    "memoryGiB": 768,
    "name": "ml.p3dn.24xlarge",
    "vcpuNum": 96
   },
   {
    "_defaultOrder": 39,
    "_isFastLaunch": false,
    "category": "Memory Optimized",
    "gpuNum": 0,
    "hideHardwareSpecs": false,
    "memoryGiB": 16,
    "name": "ml.r5.large",
    "vcpuNum": 2
   },
   {
    "_defaultOrder": 40,
    "_isFastLaunch": false,
    "category": "Memory Optimized",
    "gpuNum": 0,
    "hideHardwareSpecs": false,
    "memoryGiB": 32,
    "name": "ml.r5.xlarge",
    "vcpuNum": 4
   },
   {
    "_defaultOrder": 41,
    "_isFastLaunch": false,
    "category": "Memory Optimized",
    "gpuNum": 0,
    "hideHardwareSpecs": false,
    "memoryGiB": 64,
    "name": "ml.r5.2xlarge",
    "vcpuNum": 8
   },
   {
    "_defaultOrder": 42,
    "_isFastLaunch": false,
    "category": "Memory Optimized",
    "gpuNum": 0,
    "hideHardwareSpecs": false,
    "memoryGiB": 128,
    "name": "ml.r5.4xlarge",
    "vcpuNum": 16
   },
   {
    "_defaultOrder": 43,
    "_isFastLaunch": false,
    "category": "Memory Optimized",
    "gpuNum": 0,
    "hideHardwareSpecs": false,
    "memoryGiB": 256,
    "name": "ml.r5.8xlarge",
    "vcpuNum": 32
   },
   {
    "_defaultOrder": 44,
    "_isFastLaunch": false,
    "category": "Memory Optimized",
    "gpuNum": 0,
    "hideHardwareSpecs": false,
    "memoryGiB": 384,
    "name": "ml.r5.12xlarge",
    "vcpuNum": 48
   },
   {
    "_defaultOrder": 45,
    "_isFastLaunch": false,
    "category": "Memory Optimized",
    "gpuNum": 0,
    "hideHardwareSpecs": false,
    "memoryGiB": 512,
    "name": "ml.r5.16xlarge",
    "vcpuNum": 64
   },
   {
    "_defaultOrder": 46,
    "_isFastLaunch": false,
    "category": "Memory Optimized",
    "gpuNum": 0,
    "hideHardwareSpecs": false,
    "memoryGiB": 768,
    "name": "ml.r5.24xlarge",
    "vcpuNum": 96
   },
   {
    "_defaultOrder": 47,
    "_isFastLaunch": false,
    "category": "Accelerated computing",
    "gpuNum": 1,
    "hideHardwareSpecs": false,
    "memoryGiB": 16,
    "name": "ml.g5.xlarge",
    "vcpuNum": 4
   },
   {
    "_defaultOrder": 48,
    "_isFastLaunch": false,
    "category": "Accelerated computing",
    "gpuNum": 1,
    "hideHardwareSpecs": false,
    "memoryGiB": 32,
    "name": "ml.g5.2xlarge",
    "vcpuNum": 8
   },
   {
    "_defaultOrder": 49,
    "_isFastLaunch": false,
    "category": "Accelerated computing",
    "gpuNum": 1,
    "hideHardwareSpecs": false,
    "memoryGiB": 64,
    "name": "ml.g5.4xlarge",
    "vcpuNum": 16
   },
   {
    "_defaultOrder": 50,
    "_isFastLaunch": false,
    "category": "Accelerated computing",
    "gpuNum": 1,
    "hideHardwareSpecs": false,
    "memoryGiB": 128,
    "name": "ml.g5.8xlarge",
    "vcpuNum": 32
   },
   {
    "_defaultOrder": 51,
    "_isFastLaunch": false,
    "category": "Accelerated computing",
    "gpuNum": 1,
    "hideHardwareSpecs": false,
    "memoryGiB": 256,
    "name": "ml.g5.16xlarge",
    "vcpuNum": 64
   },
   {
    "_defaultOrder": 52,
    "_isFastLaunch": false,
    "category": "Accelerated computing",
    "gpuNum": 4,
    "hideHardwareSpecs": false,
    "memoryGiB": 192,
    "name": "ml.g5.12xlarge",
    "vcpuNum": 48
   },
   {
    "_defaultOrder": 53,
    "_isFastLaunch": false,
    "category": "Accelerated computing",
    "gpuNum": 4,
    "hideHardwareSpecs": false,
    "memoryGiB": 384,
    "name": "ml.g5.24xlarge",
    "vcpuNum": 96
   },
   {
    "_defaultOrder": 54,
    "_isFastLaunch": false,
    "category": "Accelerated computing",
    "gpuNum": 8,
    "hideHardwareSpecs": false,
    "memoryGiB": 768,
    "name": "ml.g5.48xlarge",
    "vcpuNum": 192
   },
   {
    "_defaultOrder": 55,
    "_isFastLaunch": false,
    "category": "Accelerated computing",
    "gpuNum": 8,
    "hideHardwareSpecs": false,
    "memoryGiB": 1152,
    "name": "ml.p4d.24xlarge",
    "vcpuNum": 96
   },
   {
    "_defaultOrder": 56,
    "_isFastLaunch": false,
    "category": "Accelerated computing",
    "gpuNum": 8,
    "hideHardwareSpecs": false,
    "memoryGiB": 1152,
    "name": "ml.p4de.24xlarge",
    "vcpuNum": 96
   }
  ],
  "instance_type": "ml.t3.medium",
  "kernelspec": {
   "display_name": "Python 3 (Data Science 3.0)",
   "language": "python",
   "name": "python3__SAGEMAKER_INTERNAL__arn:aws:sagemaker:us-east-1:081325390199:image/sagemaker-data-science-310-v1"
  },
  "language_info": {
   "codemirror_mode": {
    "name": "ipython",
    "version": 3
   },
   "file_extension": ".py",
   "mimetype": "text/x-python",
   "name": "python",
   "nbconvert_exporter": "python",
   "pygments_lexer": "ipython3",
   "version": "3.10.6"
  }
 },
 "nbformat": 4,
 "nbformat_minor": 5
}
